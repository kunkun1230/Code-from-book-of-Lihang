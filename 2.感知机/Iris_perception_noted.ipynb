{
 "cells": [
  {
   "cell_type": "markdown",
   "metadata": {},
   "source": [
    "## 第2章 感知机"
   ]
  },
  {
   "cell_type": "markdown",
   "metadata": {},
   "source": [
    "感知机是一个二分类的线性模型，其输入为实例的特征向量，输出为实例的类别，取+1和-1二值。\n",
    "\n",
    "感知机的模型如下：  \n",
    "                   $f(x)=sign(w*x+b)$  \n",
    "损失函数为：  \n",
    "                  $L(w,b)=-\\Sigma{y_{i}(w*x_{i}+b)}$\n",
    " \n",
    " ---"
   ]
  },
  {
   "cell_type": "markdown",
   "metadata": {},
   "source": [
    "#### 算法\n",
    "\n",
    "随即梯度下降法 Stochastic Gradient Descent\n",
    "\n",
    "随机抽取一个误分类点使其梯度下降。\n",
    "\n",
    "$w = w + \\eta y_{i}x_{i}$\n",
    "\n",
    "$b = b + \\eta y_{i}$\n",
    "\n",
    "当实例点被误分类，即位于分离超平面的错误侧，则调整w, b的值，使分离超平面向该无分类点的一侧移动，直至误分类点被正确分类"
   ]
  },
  {
   "cell_type": "markdown",
   "metadata": {},
   "source": [
    "这里拿出鸢尾花数据集中的两个特征进行分析"
   ]
  },
  {
   "cell_type": "code",
   "execution_count": 1,
   "metadata": {
    "collapsed": true
   },
   "outputs": [],
   "source": [
    "import pandas as pd\n",
    "import numpy as np\n",
    "from sklearn.datasets import load_iris\n",
    "import matplotlib.pyplot as plt\n",
    "%matplotlib inline"
   ]
  },
  {
   "cell_type": "code",
   "execution_count": 2,
   "metadata": {},
   "outputs": [],
   "source": [
    "'''\n",
    "导入鸢尾花数据库\n",
    "'''\n",
    "#这里可以通过打印load_iris(),查看数据结构，鸢尾花数据集是一个dict\n",
    "iris=load_iris()\n",
    "df=pd.DataFrame(iris.data,columns=iris.feature_names)\n",
    "df['label']=iris.target"
   ]
  },
  {
   "cell_type": "code",
   "execution_count": 3,
   "metadata": {},
   "outputs": [
    {
     "data": {
      "text/plain": [
       "2    50\n",
       "1    50\n",
       "0    50\n",
       "Name: label, dtype: int64"
      ]
     },
     "execution_count": 3,
     "metadata": {},
     "output_type": "execute_result"
    }
   ],
   "source": [
    "#修改df的字段名称\n",
    "df.columns=['sepal length','sepal width','petal length','petal width','label']\n",
    "#查看label分了多少类.由结果易知，三种分类各有50个数据，由于感知机是一个二分类的模型，所以这里只取前两个标签进行分析\n",
    "df.label.value_counts()"
   ]
  },
  {
   "cell_type": "code",
   "execution_count": 4,
   "metadata": {
    "scrolled": true
   },
   "outputs": [],
   "source": [
    "'''\n",
    "只取数据的前两个特征'sepal length','sepal width',\n",
    "和0,1标签生成data进行分析\n",
    "'''\n",
    "data=np.array(df.iloc[:100,[0,1,-1]])"
   ]
  },
  {
   "cell_type": "code",
   "execution_count": 5,
   "metadata": {},
   "outputs": [],
   "source": [
    "#基于划分的结果确定X，y\n",
    "X,y=data[:,:-1],data[:,-1]"
   ]
  },
  {
   "cell_type": "code",
   "execution_count": 6,
   "metadata": {},
   "outputs": [],
   "source": [
    "#修改y的列标签,从0变为1\n",
    "y=np.array([1 if i ==1 else -1 for i in y])"
   ]
  },
  {
   "cell_type": "markdown",
   "metadata": {},
   "source": [
    "## Perceptron"
   ]
  },
  {
   "cell_type": "code",
   "execution_count": 7,
   "metadata": {
    "collapsed": true
   },
   "outputs": [],
   "source": [
    "'''\n",
    "定义感知机模型\n",
    "'''\n",
    "class Model:\n",
    "    def __init__(self):\n",
    "        #这一行的意思是基于向量中特征的维度，比如这里有2个特征，维度为2.则取与特征相匹配的参数2个，初始值为[1,1]\n",
    "        self.w=np.ones(len(data[0])-1,dtype=np.float32)\n",
    "        self.b=0\n",
    "        #定义步长为0.1\n",
    "        self.l_rate =0.1\n",
    "        \n",
    "    def sign(self,x,w,b):\n",
    "        y=np.dot(x,w)+ b\n",
    "        return y\n",
    "    \n",
    "    #感知机计算的核心步骤\n",
    "    def fit(self,X_train,y_train):\n",
    "        result = False\n",
    "        #统计出错样本的数量，并根据数量进行迭代，直至错误样本的数量降至0之后跳出循环\n",
    "        while not result:\n",
    "            wrong_count=0\n",
    "            for each in range(len(X_train)):\n",
    "                X=X_train[each]\n",
    "                y=y_train[each]\n",
    "                if y*self.sign(X,self.w,self.b) <=0:\n",
    "                    self.w=self.w+self.l_rate*np.dot(y,X)\n",
    "                    self.b=self.b+self.l_rate*y\n",
    "                    wrong_count+=1\n",
    "            if wrong_count==0:\n",
    "                result=True\n",
    "        return 'receptron model'\n",
    "    \n",
    "    def score(self):\n",
    "        pass"
   ]
  },
  {
   "cell_type": "code",
   "execution_count": 8,
   "metadata": {},
   "outputs": [
    {
     "data": {
      "text/plain": [
       "'receptron model'"
      ]
     },
     "execution_count": 8,
     "metadata": {},
     "output_type": "execute_result"
    }
   ],
   "source": [
    "perceptron=Model()\n",
    "perceptron.fit(X,y)"
   ]
  },
  {
   "cell_type": "code",
   "execution_count": 9,
   "metadata": {},
   "outputs": [
    {
     "data": {
      "text/plain": [
       "array([  7.8, -10. ])"
      ]
     },
     "execution_count": 9,
     "metadata": {},
     "output_type": "execute_result"
    }
   ],
   "source": [
    "perceptron.w"
   ]
  },
  {
   "cell_type": "code",
   "execution_count": 10,
   "metadata": {},
   "outputs": [
    {
     "data": {
      "text/plain": [
       "<matplotlib.legend.Legend at 0x2043b550c88>"
      ]
     },
     "execution_count": 10,
     "metadata": {},
     "output_type": "execute_result"
    },
    {
     "data": {
      "image/png": "[encoded data removed]",
      "text/plain": [
       "<matplotlib.figure.Figure at 0x2043b3ce0f0>"
      ]
     },
     "metadata": {},
     "output_type": "display_data"
    }
   ],
   "source": [
    "#随机生成花萼长度为横坐标，并以花萼宽度为纵坐标y_\n",
    "#因为分界线上正好有 w*x+b=0\n",
    "x_points=np.linspace(4,7,10)\n",
    "y_=-(perceptron.w[0]*x_points+perceptron.b)/perceptron.w[1]\n",
    "\n",
    "plt.plot(x_points,y_) #绘制分界线\n",
    "\n",
    "#绘制数据点\n",
    "plt.plot(data[:50,0],data[:50,1],'bo',color='blue',label='0')\n",
    "\n",
    "plt.plot(data[50:,0],data[50:,1],'bo',color='orange',label='1')\n",
    "\n",
    "plt.xlabel('sepal length')\n",
    "\n",
    "plt.ylabel('sepal width')\n",
    "\n",
    "plt.legend()"
   ]
  },
  {
   "cell_type": "markdown",
   "metadata": {},
   "source": [
    "## sklearn Perceptron"
   ]
  },
  {
   "cell_type": "markdown",
   "metadata": {},
   "source": [
    "如果直接调用sklearn模块，代码如下"
   ]
  },
  {
   "cell_type": "code",
   "execution_count": 11,
   "metadata": {
    "collapsed": true
   },
   "outputs": [],
   "source": [
    "from sklearn.linear_model import Perceptron"
   ]
  },
  {
   "cell_type": "code",
   "execution_count": 12,
   "metadata": {},
   "outputs": [
    {
     "data": {
      "text/plain": [
       "Perceptron(alpha=0.0001, class_weight=None, eta0=1.0, fit_intercept=False,\n",
       "      max_iter=1000, n_iter=None, n_jobs=1, penalty=None, random_state=0,\n",
       "      shuffle=False, tol=None, verbose=0, warm_start=False)"
      ]
     },
     "execution_count": 12,
     "metadata": {},
     "output_type": "execute_result"
    }
   ],
   "source": [
    "#调用感知机函数，并赋值\n",
    "#fit_intercept为是否选择估计截距，False假设数据已经为中心了\n",
    "#shuffle在每次进行完一个循环后，数据顺序是否更新，这里选择否\n",
    "clf=Perceptron(fit_intercept=False,max_iter=1000,shuffle=False)\n",
    "clf.fit(X,y)"
   ]
  },
  {
   "cell_type": "code",
   "execution_count": 13,
   "metadata": {},
   "outputs": [
    {
     "data": {
      "text/plain": [
       "array([[  74.6, -127.2]])"
      ]
     },
     "execution_count": 13,
     "metadata": {},
     "output_type": "execute_result"
    }
   ],
   "source": [
    "#显示计算得到的w的值\n",
    "clf.coef_"
   ]
  },
  {
   "cell_type": "code",
   "execution_count": 14,
   "metadata": {},
   "outputs": [
    {
     "data": {
      "text/plain": [
       "array([ 0.])"
      ]
     },
     "execution_count": 14,
     "metadata": {},
     "output_type": "execute_result"
    }
   ],
   "source": [
    "#显示计算得到的截距b\n",
    "clf.intercept_"
   ]
  },
  {
   "cell_type": "code",
   "execution_count": 15,
   "metadata": {},
   "outputs": [
    {
     "data": {
      "text/plain": [
       "<matplotlib.legend.Legend at 0x2043bc80fd0>"
      ]
     },
     "execution_count": 15,
     "metadata": {},
     "output_type": "execute_result"
    },
    {
     "data": {
      "image/png": "[encoded data removed]",
      "text/plain": [
       "<matplotlib.figure.Figure at 0x2043bc4b908>"
      ]
     },
     "metadata": {},
     "output_type": "display_data"
    }
   ],
   "source": [
    "x_points=np.arange(4,8)\n",
    "y_=-(clf.coef_[0][0]*x_points+clf.intercept_)/clf.coef_[0][1]\n",
    "plt.plot(x_points,y_)\n",
    "\n",
    "plt.plot(data[:50,0],data[:50,1],'bo',color='blue',label='0')\n",
    "plt.plot(data[50:100,0],data[50:100,1],'bo',color='orange',label='1')\n",
    "plt.xlabel('sepal length')\n",
    "plt.ylabel('sepal wigth')\n",
    "plt.legend()"
   ]
  }
 ],
 "metadata": {
  "kernelspec": {
   "display_name": "Python [conda env:Anaconda]",
   "language": "python",
   "name": "conda-env-Anaconda-py"
  },
  "language_info": {
   "codemirror_mode": {
    "name": "ipython",
    "version": 3
   },
   "file_extension": ".py",
   "mimetype": "text/x-python",
   "name": "python",
   "nbconvert_exporter": "python",
   "pygments_lexer": "ipython3",
   "version": "3.6.3"
  }
 },
 "nbformat": 4,
 "nbformat_minor": 2
}
