{
 "cells": [
  {
   "cell_type": "markdown",
   "metadata": {},
   "source": [
    "# 第3章 k近邻法"
   ]
  },
  {
   "cell_type": "code",
   "execution_count": 1,
   "metadata": {},
   "outputs": [],
   "source": [
    "import math\n",
    "from itertools import combinations"
   ]
  },
  {
   "cell_type": "markdown",
   "metadata": {},
   "source": [
    "引入范数的概念，计算两向量间的距离：  \n",
    "$L_p (x_i,x_j)=[\\sum_{l=1}^n| x_i^{(l)} - x_j^{(l)}|^p]^{1/p}$  \n",
    "\n",
    "- p = 1 曼哈顿距离\n",
    "- p = 2 欧氏距离\n",
    "- p = inf  闵式距离minkowski_distance "
   ]
  },
  {
   "cell_type": "code",
   "execution_count": 2,
   "metadata": {},
   "outputs": [],
   "source": [
    "#计算x与y两样本间的距离\n",
    "def L(x,y,p):\n",
    "    if len(x)==len(y) and len(x)>1:\n",
    "        sum=0\n",
    "        for i in range(len(x)):\n",
    "            sum+=math.pow(abs(x[i]- y[i]),p)\n",
    "        return math.pow(sum,1/p)\n",
    "    else:\n",
    "        return 0"
   ]
  },
  {
   "cell_type": "code",
   "execution_count": 3,
   "metadata": {
    "scrolled": true
   },
   "outputs": [
    {
     "data": {
      "text/plain": [
       "6.0"
      ]
     },
     "execution_count": 3,
     "metadata": {},
     "output_type": "execute_result"
    }
   ],
   "source": [
    "#计算结果\n",
    "L((1,1),(4,4),1)"
   ]
  },
  {
   "cell_type": "code",
   "execution_count": 4,
   "metadata": {},
   "outputs": [],
   "source": [
    "#P39例3.1 计算距离x1的最近点\n",
    "x1=(1,1)\n",
    "x2=(5,1)\n",
    "x3=(4,4)"
   ]
  },
  {
   "cell_type": "code",
   "execution_count": 5,
   "metadata": {},
   "outputs": [
    {
     "name": "stdout",
     "output_type": "stream",
     "text": [
      "(4.0, '1阶范数(5, 1)to (1,1)')\n",
      "(4.0, '2阶范数(5, 1)to (1,1)')\n",
      "(3.7797631496846193, '3阶范数(4, 4)to (1,1)')\n",
      "(3.5676213450081633, '4阶范数(4, 4)to (1,1)')\n"
     ]
    }
   ],
   "source": [
    "for i in range(1,5):\n",
    "    dist={'{}阶范数{}to (1,1)'.format(i,x):L(x1,x,i) for x in [x2,x3]}\n",
    "    print(min(zip(dist.values(),dist.keys())))"
   ]
  },
  {
   "cell_type": "code",
   "execution_count": 6,
   "metadata": {},
   "outputs": [],
   "source": [
    "import numpy as np\n",
    "import pandas as pd\n",
    "import matplotlib.pyplot as plt\n",
    "%matplotlib inline\n",
    "\n",
    "from sklearn.datasets import load_iris\n",
    "from sklearn.model_selection import train_test_split\n",
    "\n",
    "from collections import Counter"
   ]
  },
  {
   "cell_type": "code",
   "execution_count": 7,
   "metadata": {},
   "outputs": [],
   "source": [
    "#导入数据集\n",
    "iris=load_iris()\n",
    "df=pd.DataFrame(iris.data,columns=iris.feature_names)\n",
    "df['label']=iris.target\n",
    "df.columns=['sepal length','sepal width','petal length','petal width','label']"
   ]
  },
  {
   "cell_type": "code",
   "execution_count": 8,
   "metadata": {
    "scrolled": false
   },
   "outputs": [
    {
     "data": {
      "text/plain": [
       "<matplotlib.legend.Legend at 0x24254124358>"
      ]
     },
     "execution_count": 8,
     "metadata": {},
     "output_type": "execute_result"
    },
    {
     "data": {
      "image/png": "[encoded data removed]",
      "text/plain": [
       "<Figure size 432x288 with 1 Axes>"
      ]
     },
     "metadata": {
      "needs_background": "light"
     },
     "output_type": "display_data"
    }
   ],
   "source": [
    "plt.scatter(df['sepal width'][:50],df['sepal length'][:50],label='0')\n",
    "plt.scatter(df['sepal width'][50:100],df['sepal length'][50:100],label='1')\n",
    "plt.xlabel('sepal length')\n",
    "plt.ylabel('sepal width')\n",
    "plt.legend()"
   ]
  },
  {
   "cell_type": "code",
   "execution_count": 9,
   "metadata": {},
   "outputs": [],
   "source": [
    "#以萼片的长宽为特征，划分测试集和训练集\n",
    "data=np.array(df.iloc[:100,[0,1,-1]])\n",
    "X,y=data[:,:-1],data[:,-1]\n",
    "X_train,X_test,y_train,y_test = train_test_split(X,y,test_size=0.2)"
   ]
  },
  {
   "cell_type": "code",
   "execution_count": 10,
   "metadata": {},
   "outputs": [],
   "source": [
    "class KNN:\n",
    "    def __init__(self, X_train, y_train, n_neighbors=3, p=2):\n",
    "        '''\n",
    "        parameter:n_neighbours 临近点个数\n",
    "        parameter：p 距离范数\n",
    "        '''\n",
    "        self.n = n_neighbors\n",
    "        self.p = p\n",
    "        self.X_train = X_train\n",
    "        self.y_train = y_train\n",
    "        \n",
    "    def predict(self,X):\n",
    "        #构建点与距离的列表\n",
    "        knn_list=[]\n",
    "        #先生成一个长度为3的关于点和距离的列表\n",
    "        for i in range(self.n):\n",
    "            dist=np.linalg.norm(X - self.X_train[i],ord=self.p)\n",
    "            knn_list.append((dist,self.y_train[i]))\n",
    "        \n",
    "        #选择距离最近的三个点\n",
    "        for j in range(self.n,len(self.X_train)):\n",
    "            max_index = knn_list.index(max(knn_list,key=lambda x:x[0]))  #找到knn_list中第一个元素最大的那个值的索引\n",
    "            num = np.linalg.norm(X-self.X_train[j],ord=self.p)       \n",
    "            if knn_list[max_index][0] > num:                         #如果当前knn_list中的最大距离大于计算得到的dist，则dist替换knn_list\n",
    "                knn_list[max_index]=(num , self.y_train[j])\n",
    "        \n",
    "        #将剩下的数据进行排序，并选出类别最多的一组\n",
    "        knn=[k[-1] for k in knn_list]\n",
    "        count_pairs = Counter(knn)\n",
    "        max_count=sorted(count_pairs,key=lambda x:x)[-1]\n",
    "        return max_count\n",
    "               \n",
    "    def score(self,X_test,y_test):\n",
    "        count=0\n",
    "        for X,y in zip(X_test,y_test):\n",
    "            label = self.predict(X)\n",
    "            if label == y:\n",
    "                count += 1\n",
    "        return count/len(X_test)"
   ]
  },
  {
   "cell_type": "code",
   "execution_count": 11,
   "metadata": {
    "scrolled": true
   },
   "outputs": [],
   "source": [
    "clf = KNN(X_train,y_train)"
   ]
  },
  {
   "cell_type": "code",
   "execution_count": 12,
   "metadata": {},
   "outputs": [
    {
     "data": {
      "text/plain": [
       "1.0"
      ]
     },
     "execution_count": 12,
     "metadata": {},
     "output_type": "execute_result"
    }
   ],
   "source": [
    "clf.score(X_test,y_test)"
   ]
  },
  {
   "cell_type": "markdown",
   "metadata": {},
   "source": [
    "# scikit-learn"
   ]
  },
  {
   "cell_type": "markdown",
   "metadata": {},
   "source": [
    "- n_neighbors:临近点的个数  \n",
    "- p：距离度量\n",
    "- algorithm：近邻算法，可选{'auto','ball_tree','kd_tree','brute'}\n",
    "- weights:确定近邻的权重"
   ]
  },
  {
   "cell_type": "code",
   "execution_count": 13,
   "metadata": {},
   "outputs": [],
   "source": [
    "# 调用sklearn的KNN模块\n",
    "from sklearn.neighbors import KNeighborsClassifier"
   ]
  },
  {
   "cell_type": "code",
   "execution_count": 14,
   "metadata": {},
   "outputs": [
    {
     "data": {
      "text/plain": [
       "KNeighborsClassifier(algorithm='auto', leaf_size=30, metric='minkowski',\n",
       "           metric_params=None, n_jobs=1, n_neighbors=5, p=2,\n",
       "           weights='uniform')"
      ]
     },
     "execution_count": 14,
     "metadata": {},
     "output_type": "execute_result"
    }
   ],
   "source": [
    "clf_sk = KNeighborsClassifier()\n",
    "clf_sk.fit(X_train,y_train)"
   ]
  },
  {
   "cell_type": "code",
   "execution_count": 15,
   "metadata": {},
   "outputs": [
    {
     "data": {
      "text/plain": [
       "1.0"
      ]
     },
     "execution_count": 15,
     "metadata": {},
     "output_type": "execute_result"
    }
   ],
   "source": [
    "clf_sk.score(X_test,y_test)"
   ]
  },
  {
   "cell_type": "markdown",
   "metadata": {},
   "source": [
    "### kd树"
   ]
  },
  {
   "cell_type": "code",
   "execution_count": 16,
   "metadata": {},
   "outputs": [],
   "source": [
    "# 生成kd-tree\n",
    "class KdNode(object):\n",
    "    def __init__(self, dom_elt, split, left, right):\n",
    "        self.dom_elt = dom_elt\n",
    "        self.split   = split\n",
    "        self.left    = left\n",
    "        self.right   = right\n",
    "\n",
    "class Kdtree(object):\n",
    "    def __init__(self,data):\n",
    "        k = len(data[0])  #确定每个样本的维度\n",
    "    \n",
    "        def CreateNode(split,data_set):\n",
    "            #如果数据集为空，直接返回None\n",
    "            if not data_set:\n",
    "                return None\n",
    "            #将数据集按照split维度进行排序\n",
    "            data_set.sort(key=lambda x:x[split])\n",
    "            split_pos = len(data_set)//2\n",
    "            median = data_set[split_pos]\n",
    "            split_next = (split + 1) % k\n",
    "            \n",
    "            #递归构建kd树\n",
    "            return KdNode(median,split,CreateNode(split_next,data_set[:split_pos]),\n",
    "                         CreateNode(split_next,data_set[split_pos + 1:]))\n",
    "            \n",
    "        self.root = CreateNode(0,data) #从0维开始对数据进行划分，构造kd树\n",
    "\n",
    "\n",
    "def preorder(root):\n",
    "    print(root.dom_elt) #依次打印出每个节点\n",
    "    if root.left:     #如果左侧节点不为空\n",
    "        preorder(root.left)\n",
    "    if root.right:\n",
    "        preorder(root.right)"
   ]
  },
  {
   "cell_type": "code",
   "execution_count": 17,
   "metadata": {
    "scrolled": true
   },
   "outputs": [
    {
     "name": "stdout",
     "output_type": "stream",
     "text": [
      "[7, 2]\n",
      "[5, 4]\n",
      "[2, 3]\n",
      "[4, 7]\n",
      "[9, 6]\n",
      "[8, 1]\n"
     ]
    }
   ],
   "source": [
    "data = [[2,3],[5,4],[9,6],[4,7],[8,1],[7,2]]\n",
    "kd = Kdtree(data)\n",
    "preorder(kd.root)"
   ]
  },
  {
   "cell_type": "code",
   "execution_count": 18,
   "metadata": {},
   "outputs": [],
   "source": [
    "#对构建好的kd树进行搜索，寻找与目标点最近的样本点\n",
    "from math import sqrt\n",
    "from collections import namedtuple\n",
    "\n",
    "#定义一个元组，分别存放最近坐标点，最近距离和访问过的节点数\n",
    "result = namedtuple('Result_tuple','nearest_point nearest_dist nodes_visited')\n",
    "\n",
    "def find_nearest(tree,point):\n",
    "    #确定数据维度\n",
    "    k=len(point) \n",
    "    def travel(kd_node,target,max_dist):\n",
    "        if kd_node is None:\n",
    "            return result([0]*k, float('inf'), 0) # float('inf')和float('-inf')分别代表正负无穷\n",
    "        \n",
    "        nodes_visited = 1\n",
    "        \n",
    "        s = kd_node.split         #进行分割的维度\n",
    "        pivot = kd_node.dom_elt   #进行分割的‘轴’（样本点）\n",
    "        \n",
    "        #如果分割点维度小于分割轴的对应值，则更近的点为左侧子树\n",
    "        if target[s] <= pivot[s]:   \n",
    "            nearer_node  = kd_node.left\n",
    "            further_node = kd_node.right\n",
    "        else:\n",
    "            nearer_node  = kd_node.right\n",
    "            further_node = kd_node.left\n",
    "        \n",
    "        #在更近的节点中，进行遍历，获得更近的点，并计算距离\n",
    "        temp1 = travel(nearer_node, target, max_dist)\n",
    "        \n",
    "        nearest = temp1.nearest_point #选取temp1中最近点\n",
    "        dist    = temp1.nearest_dist  #选取temp1中计算距离\n",
    "        print('nearest is %s dist is %s'%(nearest,dist))\n",
    "        \n",
    "        nodes_visited += temp1.nodes_visited\n",
    "        print('nodes_visited is',nodes_visited)\n",
    "        \n",
    "        # 最近点将在以目标点为球心，max_dist为半径的超球体内\n",
    "        if dist < max_dist:\n",
    "            max_dist = dist\n",
    "        \n",
    "        # 计算第s维上目标点与分割超平面的距离，并计算超球体是否与分割超平面的距离\n",
    "        temp_dist = abs(pivot[s] - target[s])\n",
    "        if max_dist < temp_dist :            #如与分割面不相交，则可以直接返回数据\n",
    "            return result(nearest, dist, nodes_visited)\n",
    "        \n",
    "        #进一步计算目标点与分割点的欧氏距离，如小于球体半径，则进一步更新球体半径\n",
    "        temp_dist =sqrt(sum((p1 - p2)**2 for p1,p2 in zip(pivot, target)))\n",
    "        \n",
    "        if temp_dist < dist:      #如果更近\n",
    "            nearest = pivot       #更新最近点\n",
    "            dist    = temp_dist   #更新最近的距离\n",
    "            max_dist= dist        #更新超球体半径\n",
    "            \n",
    "        #检查另一个子节点对应区域内，是否有更近的点\n",
    "        temp2 = travel(further_node, target, max_dist)\n",
    "        \n",
    "        nodes_visited += temp2.nodes_visited\n",
    "        #如果较远的节点距离小于分界点与target的距离，则取较远的节点为最近点\n",
    "        if temp2.nearest_dist < dist:\n",
    "            nearest = temp2.nearest_point\n",
    "            dist    = temp2.nearest_dist\n",
    "        \n",
    "        return result(nearest, dist, nodes_visited)\n",
    "        \n",
    "    #从根节点开始递归\n",
    "    return travel(tree.root, point, float('inf')) "
   ]
  },
  {
   "cell_type": "code",
   "execution_count": 19,
   "metadata": {},
   "outputs": [
    {
     "name": "stdout",
     "output_type": "stream",
     "text": [
      "nearest is [0, 0] dist is inf\n",
      "nodes_visited is 1\n",
      "nearest is [4, 7] dist is 2.692582403567252\n",
      "nodes_visited is 2\n",
      "nearest is [0, 0] dist is inf\n",
      "nodes_visited is 1\n",
      "nearest is [2, 3] dist is 1.8027756377319946\n",
      "nodes_visited is 4\n",
      "Result_tuple(nearest_point=[2, 3], nearest_dist=1.8027756377319946, nodes_visited=4)\n"
     ]
    }
   ],
   "source": [
    "ret = find_nearest(kd, [3,4.5])\n",
    "print (ret)"
   ]
  },
  {
   "cell_type": "code",
   "execution_count": 20,
   "metadata": {},
   "outputs": [],
   "source": [
    "from time import clock\n",
    "from random import random\n",
    "\n",
    "def random_point(k):\n",
    "    return [random() for i in range(k)]\n",
    "\n",
    "def random_points(k, n):\n",
    "    return [random_point(k) for j in range(n)]"
   ]
  },
  {
   "cell_type": "code",
   "execution_count": 21,
   "metadata": {
    "scrolled": false
   },
   "outputs": [
    {
     "name": "stdout",
     "output_type": "stream",
     "text": [
      "nearest is [0, 0, 0] dist is inf\n",
      "nodes_visited is 1\n",
      "nearest is [0.1131487327502324, 0.5155641794819954, 0.8010478154535131] dist is 0.02040173456129212\n",
      "nodes_visited is 2\n",
      "nearest is [0.11329810082880687, 0.5109411543053922, 0.8024262374586805] dist is 0.017390657589447862\n",
      "nodes_visited is 3\n",
      "nearest is [0.11329810082880687, 0.5109411543053922, 0.8024262374586805] dist is 0.017390657589447862\n",
      "nodes_visited is 4\n",
      "nearest is [0, 0, 0] dist is inf\n",
      "nodes_visited is 1\n",
      "nearest is [0.11415709378740779, 0.5018434599657535, 0.7939636260879188] dist is 0.015500305131101483\n",
      "nodes_visited is 2\n",
      "nearest is [0.11507525511129446, 0.5021659436523428, 0.8027040045320195] dist is 0.015468234194144963\n",
      "nodes_visited is 3\n",
      "nearest is [0.11507525511129446, 0.5021659436523428, 0.8027040045320195] dist is 0.015468234194144963\n",
      "nodes_visited is 8\n",
      "nearest is [0, 0, 0] dist is inf\n",
      "nodes_visited is 1\n",
      "nearest is [0, 0, 0] dist is inf\n",
      "nodes_visited is 2\n",
      "nearest is [0, 0, 0] dist is inf\n",
      "nodes_visited is 3\n",
      "nearest is [0, 0, 0] dist is inf\n",
      "nodes_visited is 4\n",
      "nearest is [0.10192374899855294, 0.5010945574262067, 0.7901300511786487] dist is 0.01011507567469435\n",
      "nodes_visited is 13\n",
      "nearest is [0.10192374899855294, 0.5010945574262067, 0.7901300511786487] dist is 0.01011507567469435\n",
      "nodes_visited is 14\n",
      "nearest is [0, 0, 0] dist is inf\n",
      "nodes_visited is 1\n",
      "nearest is [0, 0, 0] dist is inf\n",
      "nodes_visited is 1\n",
      "nearest is [0.08862750062846048, 0.5028299311763833, 0.7954760352123087] dist is 0.012562185710257766\n",
      "nodes_visited is 3\n",
      "nearest is [0.08862750062846048, 0.5028299311763833, 0.7954760352123087] dist is 0.012562185710257766\n",
      "nodes_visited is 4\n",
      "nearest is [0.08862750062846048, 0.5028299311763833, 0.7954760352123087] dist is 0.012562185710257766\n",
      "nodes_visited is 5\n",
      "nearest is [0.08862750062846048, 0.5028299311763833, 0.7954760352123087] dist is 0.012562185710257766\n",
      "nodes_visited is 6\n",
      "nearest is [0.10192374899855294, 0.5010945574262067, 0.7901300511786487] dist is 0.01011507567469435\n",
      "nodes_visited is 21\n",
      "nearest is [0.10192374899855294, 0.5010945574262067, 0.7901300511786487] dist is 0.01011507567469435\n",
      "nodes_visited is 22\n",
      "nearest is [0.10192374899855294, 0.5010945574262067, 0.7901300511786487] dist is 0.01011507567469435\n",
      "nodes_visited is 23\n",
      "nearest is [0.10192374899855294, 0.5010945574262067, 0.7901300511786487] dist is 0.01011507567469435\n",
      "nodes_visited is 24\n",
      "nearest is [0.10192374899855294, 0.5010945574262067, 0.7901300511786487] dist is 0.01011507567469435\n",
      "nodes_visited is 25\n",
      "nearest is [0.10192374899855294, 0.5010945574262067, 0.7901300511786487] dist is 0.01011507567469435\n",
      "nodes_visited is 26\n",
      "nearest is [0.10192374899855294, 0.5010945574262067, 0.7901300511786487] dist is 0.01011507567469435\n",
      "nodes_visited is 27\n",
      "nearest is [0.10192374899855294, 0.5010945574262067, 0.7901300511786487] dist is 0.01011507567469435\n",
      "nodes_visited is 28\n",
      "nearest is [0.10192374899855294, 0.5010945574262067, 0.7901300511786487] dist is 0.01011507567469435\n",
      "nodes_visited is 29\n",
      "nearest is [0.10192374899855294, 0.5010945574262067, 0.7901300511786487] dist is 0.01011507567469435\n",
      "nodes_visited is 30\n",
      "nearest is [0.10192374899855294, 0.5010945574262067, 0.7901300511786487] dist is 0.01011507567469435\n",
      "nodes_visited is 31\n",
      "nearest is [0, 0, 0] dist is inf\n",
      "nodes_visited is 1\n",
      "nearest is [0, 0, 0] dist is inf\n",
      "nodes_visited is 2\n",
      "nearest is [0, 0, 0] dist is inf\n",
      "nodes_visited is 3\n",
      "nearest is [0, 0, 0] dist is inf\n",
      "nodes_visited is 4\n",
      "nearest is [0, 0, 0] dist is inf\n",
      "nodes_visited is 5\n",
      "nearest is [0, 0, 0] dist is inf\n",
      "nodes_visited is 6\n",
      "nearest is [0, 0, 0] dist is inf\n",
      "nodes_visited is 1\n",
      "nearest is [0, 0, 0] dist is inf\n",
      "nodes_visited is 2\n",
      "nearest is [0, 0, 0] dist is inf\n",
      "nodes_visited is 3\n",
      "nearest is [0, 0, 0] dist is inf\n",
      "nodes_visited is 4\n",
      "nearest is [0, 0, 0] dist is inf\n",
      "nodes_visited is 5\n",
      "nearest is [0, 0, 0] dist is inf\n",
      "nodes_visited is 6\n",
      "nearest is [0.09445498520437023, 0.49248459507383524, 0.7968541019139448] dist is 0.009855210553601617\n",
      "nodes_visited is 13\n",
      "nearest is [0.09445498520437023, 0.49248459507383524, 0.7968541019139448] dist is 0.009855210553601617\n",
      "nodes_visited is 14\n",
      "nearest is [0.09445498520437023, 0.49248459507383524, 0.7968541019139448] dist is 0.009855210553601617\n",
      "nodes_visited is 15\n",
      "nearest is [0.09445498520437023, 0.49248459507383524, 0.7968541019139448] dist is 0.009855210553601617\n",
      "nodes_visited is 16\n",
      "nearest is [0.09445498520437023, 0.49248459507383524, 0.7968541019139448] dist is 0.009855210553601617\n",
      "nodes_visited is 17\n",
      "nearest is [0.09445498520437023, 0.49248459507383524, 0.7968541019139448] dist is 0.009855210553601617\n",
      "nodes_visited is 18\n",
      "nearest is [0.09445498520437023, 0.49248459507383524, 0.7968541019139448] dist is 0.009855210553601617\n",
      "nodes_visited is 19\n",
      "nearest is [0.09445498520437023, 0.49248459507383524, 0.7968541019139448] dist is 0.009855210553601617\n",
      "nodes_visited is 20\n",
      "nearest is [0.09445498520437023, 0.49248459507383524, 0.7968541019139448] dist is 0.009855210553601617\n",
      "nodes_visited is 21\n",
      "nearest is [0.09445498520437023, 0.49248459507383524, 0.7968541019139448] dist is 0.009855210553601617\n",
      "nodes_visited is 22\n",
      "nearest is [0.09445498520437023, 0.49248459507383524, 0.7968541019139448] dist is 0.009855210553601617\n",
      "nodes_visited is 54\n",
      "time: 5.690587289121143 s\n",
      "Result_tuple(nearest_point=[0.09445498520437023, 0.49248459507383524, 0.7968541019139448], nearest_dist=0.009855210553601617, nodes_visited=54)\n"
     ]
    }
   ],
   "source": [
    "N = 400000\n",
    "t0 = clock()\n",
    "kd2  = Kdtree(random_points(3,N))\n",
    "ret2 = find_nearest(kd2, [0.1, 0.5, 0.8])\n",
    "t1   = clock()\n",
    "print('time:',t1 - t0, 's')\n",
    "print(ret2)"
   ]
  },
  {
   "cell_type": "code",
   "execution_count": null,
   "metadata": {},
   "outputs": [],
   "source": []
  }
 ],
 "metadata": {
  "kernelspec": {
   "display_name": "Python 3",
   "language": "python",
   "name": "python3"
  },
  "language_info": {
   "codemirror_mode": {
    "name": "ipython",
    "version": 3
   },
   "file_extension": ".py",
   "mimetype": "text/x-python",
   "name": "python",
   "nbconvert_exporter": "python",
   "pygments_lexer": "ipython3",
   "version": "3.6.4"
  }
 },
 "nbformat": 4,
 "nbformat_minor": 2
}
