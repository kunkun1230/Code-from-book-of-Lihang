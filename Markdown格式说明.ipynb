{
 "cells": [
  {
   "cell_type": "markdown",
   "metadata": {},
   "source": [
    "# markdown 格式总结"
   ]
  },
  {
   "cell_type": "markdown",
   "metadata": {},
   "source": [
    "累加上下限  $Q(x)=\\sum_{i=1}^n(h(x_i)-y_i)^2+\\lambda||w||^2$"
   ]
  },
  {
   "cell_type": "markdown",
   "metadata": {},
   "source": [
    "多项式     $H(x)=w_0+w_1x+w_2x^2+...+w_nx^n$ "
   ]
  },
  {
   "cell_type": "markdown",
   "metadata": {},
   "source": [
    "正弦函数$y=sin2{\\pi}x$  "
   ]
  },
  {
   "cell_type": "markdown",
   "metadata": {},
   "source": [
    "符号函数$f(x)=sign(w*x+b)$  "
   ]
  },
  {
   "cell_type": "markdown",
   "metadata": {},
   "source": [
    "损失函数$L(w,b)=-\\Sigma{y_i(w*x_i+b)}$"
   ]
  },
  {
   "cell_type": "markdown",
   "metadata": {},
   "source": [
    "下降梯度(步长)$w_i=w_{i-1}+\\eta{y_ix_i}$ "
   ]
  },
  {
   "cell_type": "code",
   "execution_count": null,
   "metadata": {},
   "outputs": [],
   "source": []
  }
 ],
 "metadata": {
  "kernelspec": {
   "display_name": "Python 3",
   "language": "python",
   "name": "python3"
  },
  "language_info": {
   "codemirror_mode": {
    "name": "ipython",
    "version": 3
   },
   "file_extension": ".py",
   "mimetype": "text/x-python",
   "name": "python",
   "nbconvert_exporter": "python",
   "pygments_lexer": "ipython3",
   "version": "3.6.4"
  }
 },
 "nbformat": 4,
 "nbformat_minor": 2
}
